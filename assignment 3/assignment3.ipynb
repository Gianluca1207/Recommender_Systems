{
 "cells": [
  {
   "attachments": {},
   "cell_type": "markdown",
   "metadata": {},
   "source": [
    "Implement a user‐based nearest neighbor recommendation algorithm. Write a program that:  \n",
    "A) Accepts a user ID as an input (on the console),  \n",
    "B) Then shows the titles and genres of up to 15 movies that this user has rated\n",
    ","
   ]
  },
  {
   "cell_type": "code",
   "execution_count": 1,
   "metadata": {},
   "outputs": [
    {
     "name": "stderr",
     "output_type": "stream",
     "text": [
      "C:\\Users\\gianl\\AppData\\Local\\Temp\\ipykernel_13776\\4147592488.py:6: ParserWarning: Falling back to the 'python' engine because the 'c' engine does not support regex separators (separators > 1 char and different from '\\s+' are interpreted as regex); you can avoid this warning by specifying engine='python'.\n",
      "  df_ratings = pd.read_table(\"ratings.dat\", sep=\"::\", header=None, names=[\"user_id\",\"movie_id\",\"rating\",\"timestamp\"], encoding=\"ISO-8859-1\")\n",
      "C:\\Users\\gianl\\AppData\\Local\\Temp\\ipykernel_13776\\4147592488.py:8: ParserWarning: Falling back to the 'python' engine because the 'c' engine does not support regex separators (separators > 1 char and different from '\\s+' are interpreted as regex); you can avoid this warning by specifying engine='python'.\n",
      "  df_movies = pd.read_table(\"movies.dat\", sep=\"::\", names=[\"movie_id\",\"title\", \"genres\"], encoding=\"ISO-8859-1\")\n"
     ]
    },
    {
     "name": "stdout",
     "output_type": "stream",
     "text": [
      "User 3 has rated:\n",
      "                                                 title  \\\n",
      "182                                Animal House (1978)   \n",
      "183                             Full Monty, The (1997)   \n",
      "184                         Mission: Impossible (1996)   \n",
      "185                             Raising Arizona (1987)   \n",
      "186                                     28 Days (2000)   \n",
      "187                               Happy Gilmore (1996)   \n",
      "188                           Golden Child, The (1986)   \n",
      "189  Star Wars: Episode VI - Return of the Jedi (1983)   \n",
      "190                         Beverly Hills Ninja (1997)   \n",
      "191  Naked Gun: From the Files of Police Squad!, Th...   \n",
      "192                        Fish Called Wanda, A (1988)   \n",
      "193                        Being John Malkovich (1999)   \n",
      "194                                   Edge, The (1997)   \n",
      "195          Indiana Jones and the Last Crusade (1989)   \n",
      "196                                 Stand by Me (1986)   \n",
      "\n",
      "                                  genres  \n",
      "182                               Comedy  \n",
      "183                               Comedy  \n",
      "184             Action|Adventure|Mystery  \n",
      "185                               Comedy  \n",
      "186                               Comedy  \n",
      "187                               Comedy  \n",
      "188              Action|Adventure|Comedy  \n",
      "189  Action|Adventure|Romance|Sci-Fi|War  \n",
      "190                        Action|Comedy  \n",
      "191                               Comedy  \n",
      "192                               Comedy  \n",
      "193                               Comedy  \n",
      "194                   Adventure|Thriller  \n",
      "195                     Action|Adventure  \n",
      "196               Adventure|Comedy|Drama  \n"
     ]
    }
   ],
   "source": [
    "import pandas as pd\n",
    "import numpy as np\n",
    "\n",
    "user_input = int(input(\"Insert user ID\"))    #remember to convert the input to int!!\n",
    "\n",
    "df_ratings = pd.read_table(\"ratings.dat\", sep=\"::\", header=None, names=[\"user_id\",\"movie_id\",\"rating\",\"timestamp\"], encoding=\"ISO-8859-1\")\n",
    "\n",
    "df_movies = pd.read_table(\"movies.dat\", sep=\"::\", names=[\"movie_id\",\"title\", \"genres\"], encoding=\"ISO-8859-1\")\n",
    "\n",
    "if user_input not in df_ratings[\"user_id\"].values:\n",
    "    print(f\"User {user_input} not found in the ratings dataset\")\n",
    "else:\n",
    "    merged_df = df_ratings.merge(df_movies, how=\"left\")\n",
    "\n",
    "    print(f\"User {user_input} has rated:\")\n",
    "\n",
    "    print(merged_df[merged_df.user_id == user_input][[\"title\", \"genres\"]].head(15))\n"
   ]
  },
  {
   "attachments": {},
   "cell_type": "markdown",
   "metadata": {},
   "source": [
    "Implement a user‐based nearest neighbor recommendation algorithm. Write a program that:  \n",
    "A) Accepts a user ID as an input (on the console),  \n",
    "B) Then shows the titles and genres of up to 15 movies that this user has rated"
   ]
  },
  {
   "attachments": {},
   "cell_type": "markdown",
   "metadata": {},
   "source": [
    "C) Then displays the 10 movies with the highest predicted relevance score according to the nearest neighbor technique"
   ]
  },
  {
   "cell_type": "code",
   "execution_count": 2,
   "metadata": {},
   "outputs": [
    {
     "name": "stdout",
     "output_type": "stream",
     "text": [
      "[('African Queen, The (1951)', 5.0), ('All About My Mother (Todo Sobre Mi Madre) (1999)', 5.0), ('All Over Me (1997)', 5.0), ('American History X (1998)', 5.0), ('American Movie (1999)', 5.0), ('Amityville Horror, The (1979)', 5.0), ('Baby, The (1973)', 5.0), ('Best Man, The (1999)', 5.0), (\"Boys Don't Cry (1999)\", 5.0), ('Cell, The (2000)', 5.0)]\n"
     ]
    }
   ],
   "source": [
    "# df_users = pd.read_table(\"users.dat\", sep=\"::\", names=[\"user_id\",\"gender\", \"age\", \"occupation\", \"zip_code\"], encoding=\"ISO-8859-1\")\n",
    "\n",
    "# merged_df2 = merged_df.merge(df_users, how=\"left\")\n",
    "\n",
    "user_item_table = pd.pivot_table(merged_df, values=\"rating\", index=\"user_id\", columns=\"title\", fill_value=np.nan)\n",
    "\n",
    "def cosine_similarity(A, B):\n",
    "    # Find common elements\n",
    "    common_elements = np.intersect1d(np.nonzero(~np.isnan(A)), np.nonzero(~np.isnan(B)))\n",
    "    if len(common_elements) == 0:\n",
    "        return 0.0\n",
    "    # Compute cosine similarity between common elements\n",
    "    A_common = A[common_elements]\n",
    "    B_common = B[common_elements]\n",
    "    cosine_sim = np.dot(A_common, B_common) / (np.linalg.norm(A_common) * np.linalg.norm(B_common))\n",
    "    return cosine_sim\n",
    "\n",
    "\n",
    "def get_similar_users (user, user_item_table, n):\n",
    "    similar_users = []\n",
    "    for index, row in user_item_table.iterrows():\n",
    "        if index == user:\n",
    "            continue    # pass to next user if it's the same as the current one\n",
    "        similarity = cosine_similarity (user_item_table.loc[user].values, user_item_table.loc[index].values)\n",
    "        similar_users.append((index, similarity))       #Remember the double parentheses!\n",
    "    similar_users = sorted(similar_users, key=lambda x: x[1], reverse=True)\n",
    "    \n",
    "    return similar_users[:n]\n",
    "    \n",
    "\n",
    "def get_recommendations(user, user_item_table, k=10):\n",
    "    similar_users = get_similar_users(user, user_item_table, k)\n",
    "\n",
    "    predicted_ratings = {}\n",
    "    for title in user_item_table.columns :\n",
    "        if pd.isnull(user_item_table.loc[user,title]): #checking if the input user has already rated the current film\n",
    "            predicted_rating = 0\n",
    "            total_similarity = 0\n",
    "            for similar_user, similarity in similar_users:\n",
    "                if not pd.isnull(user_item_table.loc[similar_user,title]): #checking if the similar user has already rated the current film\n",
    "                    predicted_rating += similarity * user_item_table.loc[similar_user, title]\n",
    "                    total_similarity += similarity\n",
    "\n",
    "            if total_similarity > 0:\n",
    "                predicted_rating /= total_similarity\n",
    "            predicted_ratings[title] = predicted_rating\n",
    "\n",
    "    recommendations = sorted(predicted_ratings.items(), key=lambda x:x[1], reverse=True )\n",
    "    return recommendations[:k]\n",
    "\n",
    "print(get_recommendations(user_input, user_item_table))\n"
   ]
  }
 ],
 "metadata": {
  "kernelspec": {
   "display_name": "Python 3",
   "language": "python",
   "name": "python3"
  },
  "language_info": {
   "codemirror_mode": {
    "name": "ipython",
    "version": 3
   },
   "file_extension": ".py",
   "mimetype": "text/x-python",
   "name": "python",
   "nbconvert_exporter": "python",
   "pygments_lexer": "ipython3",
   "version": "3.11.1"
  },
  "orig_nbformat": 4
 },
 "nbformat": 4,
 "nbformat_minor": 2
}
